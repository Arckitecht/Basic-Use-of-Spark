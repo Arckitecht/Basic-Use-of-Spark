{
  "nbformat": 4,
  "nbformat_minor": 0,
  "metadata": {
    "colab": {
      "provenance": []
    },
    "kernelspec": {
      "name": "python3",
      "display_name": "Python 3"
    },
    "language_info": {
      "name": "python"
    }
  },
  "cells": [
    {
      "cell_type": "markdown",
      "source": [
        "**Project Details**\n",
        "\n",
        "| | Details |\n",
        "|----------|---------|\n",
        "| Author   | Alfrethanov Christian Wijaya |\n",
        "| Dataset  | iris_dataset.csv |\n",
        "| Goal     | Perform clustering for Iris dataset using Spark data processing system. |"
      ],
      "metadata": {
        "id": "ZLzfu2_2pRiK"
      }
    },
    {
      "cell_type": "markdown",
      "source": [
        "# **What is Spark?**"
      ],
      "metadata": {
        "id": "R273M_qW53m4"
      }
    },
    {
      "cell_type": "markdown",
      "source": [
        "Spark, or Apache Spark, is an **open-source distributed computing system designed for big data processing and analytics**. It provides a unified and flexible framework for processing large-scale data sets across multiple computers or clusters. Spark is written in Scala but provides APIs in multiple programming languages, including Java, Python, and R. It has gained popularity due to its speed, scalability, and ability to process diverse workloads efficiently. Spark has been widely adopted in industries and research fields where large-scale data processing, real-time analytics, and machine learning are required."
      ],
      "metadata": {
        "id": "b9-QGWXP6BnG"
      }
    },
    {
      "cell_type": "markdown",
      "source": [
        "# **What is JDK?**"
      ],
      "metadata": {
        "id": "TCMV3qD06CSw"
      }
    },
    {
      "cell_type": "markdown",
      "source": [
        "JDK stands for **Java Development Kit**, while OpenJDK refers to the open-source implementation of the Java Development Kit. OpenJDK is a collaborative project, primarily led by Oracle, that involves contributions from individuals and organizations within the Java community. OpenJDK provides an open and transparent platform for the development of Java-related technologies. OpenJDK aims to provide a free and open alternative to the proprietary JDK. It includes the same essential components as the JDK, such as the Java compiler, runtime libraries, and development tools. OpenJDK adheres to the Java SE (Standard Edition) specifications and is used as the reference implementation for Java. In summary, JDK is the Java Development Kit provided by Oracle, while OpenJDK is the open-source implementation of the JDK, maintained by a collaborative community effort. OpenJDK provides a free and open alternative for Java development and serves as the foundation for various JDK distributions, including Oracle JDK."
      ],
      "metadata": {
        "id": "HBjw8pHq6FZd"
      }
    },
    {
      "cell_type": "markdown",
      "source": [
        "---\n",
        "\n",
        "# **START**\n",
        "\n",
        "---"
      ],
      "metadata": {
        "id": "M5ATZwkZpzOZ"
      }
    },
    {
      "cell_type": "markdown",
      "source": [
        "# **Spark Installation**"
      ],
      "metadata": {
        "id": "KHNNSjSIp1T6"
      }
    },
    {
      "cell_type": "markdown",
      "source": [
        "**Spark Version :** 3.4.0 (Latest Version)\n",
        "\n",
        "<br>\n",
        "\n",
        "**JDK Version :** OpenJDK 8\n",
        "\n",
        "<small>*OpenJDK = Open-Source Java Development Kit</small>"
      ],
      "metadata": {
        "id": "xBrsWU1DzaSG"
      }
    },
    {
      "cell_type": "code",
      "execution_count": null,
      "metadata": {
        "id": "eet64DBfZpPR"
      },
      "outputs": [],
      "source": [
        "!apt-get install openjdk-8-jdk-headless -qq > /dev/null\n",
        "!wget -q https://archive.apache.org/dist/spark/spark-3.4.0/spark-3.4.0-bin-hadoop3.tgz\n",
        "!tar xf spark-3.4.0-bin-hadoop3.tgz\n",
        "!pip install -q findspark"
      ]
    },
    {
      "cell_type": "markdown",
      "source": [
        "# **Set Environment Variable**"
      ],
      "metadata": {
        "id": "ALiicmAwqFGR"
      }
    },
    {
      "cell_type": "markdown",
      "source": [
        "**Setting variable for the Operating Systems environment**"
      ],
      "metadata": {
        "id": "bQWP_V-vyao3"
      }
    },
    {
      "cell_type": "code",
      "source": [
        "import os\n",
        "os.environ[\"JAVA_HOME\"] = \"/usr/lib/jvm/java-8-openjdk-amd64\"\n",
        "os.environ[\"SPARK_HOME\"] = \"/content/spark-3.4.0-bin-hadoop3\""
      ],
      "metadata": {
        "id": "9roPPesmZs0j"
      },
      "execution_count": null,
      "outputs": []
    },
    {
      "cell_type": "markdown",
      "source": [
        "# **Spark Initialization**"
      ],
      "metadata": {
        "id": "w7NmlC8NqOoZ"
      }
    },
    {
      "cell_type": "code",
      "source": [
        "import findspark\n",
        "findspark.init()\n",
        "from pyspark.sql import SparkSession\n",
        "spark = SparkSession.builder.master(\"local[*]\").getOrCreate()"
      ],
      "metadata": {
        "id": "rSMjzTt1ZvX4"
      },
      "execution_count": null,
      "outputs": []
    },
    {
      "cell_type": "markdown",
      "source": [
        "# **Import Libraries**"
      ],
      "metadata": {
        "id": "nuZauXDjqSSz"
      }
    },
    {
      "cell_type": "code",
      "source": [
        "import pyspark\n",
        "import pandas as pd\n",
        "import numpy as np\n",
        "import matplotlib.pyplot as plt\n",
        "from pyspark.sql.functions import *\n",
        "from pyspark.sql.types import *\n",
        "from pyspark.sql.functions import rand, randn\n",
        "from pyspark.ml.clustering import KMeans"
      ],
      "metadata": {
        "id": "hWe2A465jGj1"
      },
      "execution_count": null,
      "outputs": []
    },
    {
      "cell_type": "markdown",
      "source": [
        "# **Import Dataset**"
      ],
      "metadata": {
        "id": "G4qGY62EqVUR"
      }
    },
    {
      "cell_type": "code",
      "source": [
        "df = spark.read.csv('iris_dataset.csv',inferSchema=True,header=True)"
      ],
      "metadata": {
        "id": "X_gKDXYtmp8t"
      },
      "execution_count": null,
      "outputs": []
    },
    {
      "cell_type": "markdown",
      "source": [
        "# **Data Preprocessing**"
      ],
      "metadata": {
        "id": "Nz8gZ4C2qee5"
      }
    },
    {
      "cell_type": "markdown",
      "source": [
        "**Dataset Shape**"
      ],
      "metadata": {
        "id": "z17rHduh0yz3"
      }
    },
    {
      "cell_type": "code",
      "source": [
        "print((df.count(),len(df.columns)))"
      ],
      "metadata": {
        "colab": {
          "base_uri": "https://localhost:8080/"
        },
        "id": "hnUFHOLGm4No",
        "outputId": "e042de47-5f07-4b82-b6a5-6a52e0549a8b"
      },
      "execution_count": null,
      "outputs": [
        {
          "output_type": "stream",
          "name": "stdout",
          "text": [
            "(150, 5)\n"
          ]
        }
      ]
    },
    {
      "cell_type": "markdown",
      "source": [
        "**Dataset Columns**"
      ],
      "metadata": {
        "id": "PmlN0AN601TG"
      }
    },
    {
      "cell_type": "code",
      "source": [
        "df.columns"
      ],
      "metadata": {
        "colab": {
          "base_uri": "https://localhost:8080/"
        },
        "id": "0AQzh-LUnEYP",
        "outputId": "9928ed0f-1b4c-42fe-e5c6-40204e710de8"
      },
      "execution_count": null,
      "outputs": [
        {
          "output_type": "execute_result",
          "data": {
            "text/plain": [
              "['sepal_length', 'sepal_width', 'petal_length', 'petal_width', 'species']"
            ]
          },
          "metadata": {},
          "execution_count": 7
        }
      ]
    },
    {
      "cell_type": "markdown",
      "source": [
        "**Dataset Data Structures**"
      ],
      "metadata": {
        "id": "GAGI0rQM04Gf"
      }
    },
    {
      "cell_type": "code",
      "source": [
        "df.printSchema()"
      ],
      "metadata": {
        "colab": {
          "base_uri": "https://localhost:8080/"
        },
        "id": "APlZWlpznJao",
        "outputId": "fa179828-4ebe-4be1-eeb3-6751912d41b8"
      },
      "execution_count": null,
      "outputs": [
        {
          "output_type": "stream",
          "name": "stdout",
          "text": [
            "root\n",
            " |-- sepal_length: double (nullable = true)\n",
            " |-- sepal_width: double (nullable = true)\n",
            " |-- petal_length: double (nullable = true)\n",
            " |-- petal_width: double (nullable = true)\n",
            " |-- species: string (nullable = true)\n",
            "\n"
          ]
        }
      ]
    },
    {
      "cell_type": "markdown",
      "source": [
        "**Show Dataset**"
      ],
      "metadata": {
        "id": "nDh92Xim09Ep"
      }
    },
    {
      "cell_type": "code",
      "source": [
        "df.orderBy(rand()).show(10,False)"
      ],
      "metadata": {
        "colab": {
          "base_uri": "https://localhost:8080/"
        },
        "id": "PQ__GAJSnPh_",
        "outputId": "d7f04024-7564-44aa-e37c-171821e18845"
      },
      "execution_count": null,
      "outputs": [
        {
          "output_type": "stream",
          "name": "stdout",
          "text": [
            "+------------+-----------+------------+-----------+----------+\n",
            "|sepal_length|sepal_width|petal_length|petal_width|species   |\n",
            "+------------+-----------+------------+-----------+----------+\n",
            "|5.0         |3.5        |1.3         |0.3        |setosa    |\n",
            "|5.9         |3.0        |4.2         |1.5        |versicolor|\n",
            "|6.3         |2.9        |5.6         |1.8        |virginica |\n",
            "|6.6         |3.0        |4.4         |1.4        |versicolor|\n",
            "|5.0         |2.0        |3.5         |1.0        |versicolor|\n",
            "|7.9         |3.8        |6.4         |2.0        |virginica |\n",
            "|5.6         |2.7        |4.2         |1.3        |versicolor|\n",
            "|4.9         |3.1        |1.5         |0.1        |setosa    |\n",
            "|5.9         |3.2        |4.8         |1.8        |versicolor|\n",
            "|5.8         |4.0        |1.2         |0.2        |setosa    |\n",
            "+------------+-----------+------------+-----------+----------+\n",
            "only showing top 10 rows\n",
            "\n"
          ]
        }
      ]
    },
    {
      "cell_type": "markdown",
      "source": [
        "**How Much Iris Species in the Dataset**"
      ],
      "metadata": {
        "id": "3P4klUNN1Dpn"
      }
    },
    {
      "cell_type": "code",
      "source": [
        "df.select('species').distinct().count()"
      ],
      "metadata": {
        "colab": {
          "base_uri": "https://localhost:8080/"
        },
        "id": "41IZ2mOsnYhY",
        "outputId": "2543ea9f-42fc-4031-9c69-b455cf19bb19"
      },
      "execution_count": null,
      "outputs": [
        {
          "output_type": "execute_result",
          "data": {
            "text/plain": [
              "3"
            ]
          },
          "metadata": {},
          "execution_count": 10
        }
      ]
    },
    {
      "cell_type": "markdown",
      "source": [
        "**Count of each Species**"
      ],
      "metadata": {
        "id": "KYqGWLtI1J3f"
      }
    },
    {
      "cell_type": "code",
      "source": [
        "df.groupBy('species').count().orderBy('count',ascending=False).show(10,False)"
      ],
      "metadata": {
        "colab": {
          "base_uri": "https://localhost:8080/"
        },
        "id": "0oBBdqNdniqw",
        "outputId": "0ff27403-2cad-4fac-bcb7-d8a549f59ef3"
      },
      "execution_count": null,
      "outputs": [
        {
          "output_type": "stream",
          "name": "stdout",
          "text": [
            "+----------+-----+\n",
            "|species   |count|\n",
            "+----------+-----+\n",
            "|virginica |50   |\n",
            "|versicolor|50   |\n",
            "|setosa    |50   |\n",
            "+----------+-----+\n",
            "\n"
          ]
        }
      ]
    },
    {
      "cell_type": "markdown",
      "source": [
        "**Columns Mapping**"
      ],
      "metadata": {
        "id": "boWsBIcL1a9v"
      }
    },
    {
      "cell_type": "code",
      "source": [
        "input_cols = ['sepal_length', 'sepal_width', 'petal_length', 'petal_width']"
      ],
      "metadata": {
        "id": "5JTMXQiTnwmv"
      },
      "execution_count": null,
      "outputs": []
    },
    {
      "cell_type": "markdown",
      "source": [
        "**Changing all Features / Columns into Vectors using VectorAssembler()**"
      ],
      "metadata": {
        "id": "Y1Hrhmok1hU6"
      }
    },
    {
      "cell_type": "code",
      "source": [
        "from pyspark.ml.feature import VectorAssembler\n",
        "vec_assembler = VectorAssembler(inputCols = input_cols, outputCol='features')\n",
        "final_data = vec_assembler.transform(df)"
      ],
      "metadata": {
        "id": "SV4ylxIboBA6"
      },
      "execution_count": null,
      "outputs": []
    },
    {
      "cell_type": "markdown",
      "source": [
        "# **Perform Clustering**"
      ],
      "metadata": {
        "id": "stAD4RORqbsR"
      }
    },
    {
      "cell_type": "markdown",
      "source": [
        "**Perform Clustering using KMeans algorithm and Showing the Square Distance of each Clusters**"
      ],
      "metadata": {
        "id": "fzAIw3ou2D6W"
      }
    },
    {
      "cell_type": "code",
      "source": [
        "from pyspark.ml.evaluation import ClusteringEvaluator\n",
        "\n",
        "errors=[]\n",
        "\n",
        "for k in range(2,10):\n",
        "  kmeans = KMeans(featuresCol = 'features', k=k)\n",
        "  model = kmeans.fit(final_data)\n",
        "  predict = model.transform(final_data)\n",
        "  jarak = ClusteringEvaluator().evaluate(predict)\n",
        "  errors.append(jarak)\n",
        "  print(\"K={}\".format(k))\n",
        "  print(\"Square Distance = \" + str(jarak))\n",
        "  print('--'*30)"
      ],
      "metadata": {
        "id": "K5cEieDDoZs0",
        "colab": {
          "base_uri": "https://localhost:8080/"
        },
        "outputId": "64c51d9b-8c2b-4983-851f-154d35fce90e"
      },
      "execution_count": null,
      "outputs": [
        {
          "output_type": "stream",
          "name": "stdout",
          "text": [
            "K=2\n",
            "Square Distance = 0.8501515983265806\n",
            "------------------------------------------------------------\n",
            "K=3\n",
            "Square Distance = 0.7342113066202725\n",
            "------------------------------------------------------------\n",
            "K=4\n",
            "Square Distance = 0.6720731409257744\n",
            "------------------------------------------------------------\n",
            "K=5\n",
            "Square Distance = 0.6068001254606574\n",
            "------------------------------------------------------------\n",
            "K=6\n",
            "Square Distance = 0.6368034458217438\n",
            "------------------------------------------------------------\n",
            "K=7\n",
            "Square Distance = 0.5059222856494507\n",
            "------------------------------------------------------------\n",
            "K=8\n",
            "Square Distance = 0.5357075792393957\n",
            "------------------------------------------------------------\n",
            "K=9\n",
            "Square Distance = 0.6227557716383895\n",
            "------------------------------------------------------------\n"
          ]
        }
      ]
    },
    {
      "cell_type": "markdown",
      "source": [
        "**Clusters Visualization**"
      ],
      "metadata": {
        "id": "bjhwDMFk2U4B"
      }
    },
    {
      "cell_type": "code",
      "source": [
        "cluster_number = range(2,10)\n",
        "plt.scatter(cluster_number,errors)\n",
        "plt.xlabel('K')\n",
        "plt.ylabel('SSE')\n",
        "plt.show()"
      ],
      "metadata": {
        "id": "x-wVfowGsqN5",
        "colab": {
          "base_uri": "https://localhost:8080/",
          "height": 449
        },
        "outputId": "8c36a5af-dae2-4442-a799-e46e1f9e2b01"
      },
      "execution_count": null,
      "outputs": [
        {
          "output_type": "display_data",
          "data": {
            "text/plain": [
              "<Figure size 640x480 with 1 Axes>"
            ],
            "image/png": "[encoded data removed]"
          },
          "metadata": {}
        }
      ]
    },
    {
      "cell_type": "markdown",
      "source": [
        "**For Example, we choose K = 3 to perform KMeans Clustering**\n",
        "\n",
        "<small>*For now, we don't use Elbow Method to find the best K because this project is just a training</small>"
      ],
      "metadata": {
        "id": "_pcNxnQ52YYm"
      }
    },
    {
      "cell_type": "code",
      "source": [
        "kmeans = KMeans(featuresCol = 'features', k=3)"
      ],
      "metadata": {
        "id": "htUpUrXVs665"
      },
      "execution_count": null,
      "outputs": []
    },
    {
      "cell_type": "markdown",
      "source": [
        "**Train the Model (KMeans Clustering Algorithm)**"
      ],
      "metadata": {
        "id": "zopnitcF202G"
      }
    },
    {
      "cell_type": "code",
      "source": [
        "model = kmeans.fit(final_data)"
      ],
      "metadata": {
        "id": "Do9GKXGMtFBD"
      },
      "execution_count": null,
      "outputs": []
    },
    {
      "cell_type": "markdown",
      "source": [
        "**Checking the Clusters that is resulted from KMeans cluster prediction**"
      ],
      "metadata": {
        "id": "bTgZSvOi29kF"
      }
    },
    {
      "cell_type": "code",
      "source": [
        "model.transform(final_data).groupBy('prediction').count().show()"
      ],
      "metadata": {
        "id": "dq6egyl1tI_a",
        "colab": {
          "base_uri": "https://localhost:8080/"
        },
        "outputId": "d95af3c6-1342-4cfb-dd9b-fc378a67fad1"
      },
      "execution_count": null,
      "outputs": [
        {
          "output_type": "stream",
          "name": "stdout",
          "text": [
            "+----------+-----+\n",
            "|prediction|count|\n",
            "+----------+-----+\n",
            "|         1|   50|\n",
            "|         2|   39|\n",
            "|         0|   61|\n",
            "+----------+-----+\n",
            "\n"
          ]
        }
      ]
    },
    {
      "cell_type": "markdown",
      "source": [
        "**Predict Clusters**"
      ],
      "metadata": {
        "id": "NXPysGvQ3SwG"
      }
    },
    {
      "cell_type": "code",
      "source": [
        "predictions=model.transform(final_data)"
      ],
      "metadata": {
        "id": "kjITxBUQtfyV"
      },
      "execution_count": null,
      "outputs": []
    },
    {
      "cell_type": "markdown",
      "source": [
        "# **Evaluation**"
      ],
      "metadata": {
        "id": "D37O_5iqqmhZ"
      }
    },
    {
      "cell_type": "markdown",
      "source": [
        "**Prediction Result Columns**"
      ],
      "metadata": {
        "id": "1L_e-FOTq4e2"
      }
    },
    {
      "cell_type": "code",
      "source": [
        "predictions.columns"
      ],
      "metadata": {
        "id": "uIuIZGTctoO1",
        "colab": {
          "base_uri": "https://localhost:8080/"
        },
        "outputId": "b8687952-5bff-4146-b8cd-f78db1109ca1"
      },
      "execution_count": null,
      "outputs": [
        {
          "output_type": "execute_result",
          "data": {
            "text/plain": [
              "['sepal_length',\n",
              " 'sepal_width',\n",
              " 'petal_length',\n",
              " 'petal_width',\n",
              " 'species',\n",
              " 'features',\n",
              " 'prediction']"
            ]
          },
          "metadata": {},
          "execution_count": 20
        }
      ]
    },
    {
      "cell_type": "markdown",
      "source": [
        "**Cluster Prediction Results**"
      ],
      "metadata": {
        "id": "Hy8c5isLrAJe"
      }
    },
    {
      "cell_type": "code",
      "source": [
        "predictions.groupBy('species', 'prediction').count().show()"
      ],
      "metadata": {
        "id": "fSN6jR4yttTO",
        "colab": {
          "base_uri": "https://localhost:8080/"
        },
        "outputId": "ea4f1a71-2d69-473f-a397-652a9a468e79"
      },
      "execution_count": null,
      "outputs": [
        {
          "output_type": "stream",
          "name": "stdout",
          "text": [
            "+----------+----------+-----+\n",
            "|   species|prediction|count|\n",
            "+----------+----------+-----+\n",
            "| virginica|         2|   36|\n",
            "| virginica|         0|   14|\n",
            "|versicolor|         0|   47|\n",
            "|    setosa|         1|   50|\n",
            "|versicolor|         2|    3|\n",
            "+----------+----------+-----+\n",
            "\n"
          ]
        }
      ]
    },
    {
      "cell_type": "markdown",
      "source": [
        "**Checking the Data**"
      ],
      "metadata": {
        "id": "FI_famn33yAg"
      }
    },
    {
      "cell_type": "code",
      "source": [
        "pandas_df = predictions.toPandas()\n",
        "pandas_df.head(5)"
      ],
      "metadata": {
        "id": "Mi-ptilkt3Dc",
        "colab": {
          "base_uri": "https://localhost:8080/",
          "height": 206
        },
        "outputId": "de6b7b3c-9a01-4ba2-c5e2-f03746ebea21"
      },
      "execution_count": null,
      "outputs": [
        {
          "output_type": "execute_result",
          "data": {
            "text/plain": [
              "   sepal_length  sepal_width  petal_length  petal_width species  \\\n",
              "0           5.1          3.5           1.4          0.2  setosa   \n",
              "1           4.9          3.0           1.4          0.2  setosa   \n",
              "2           4.7          3.2           1.3          0.2  setosa   \n",
              "3           4.6          3.1           1.5          0.2  setosa   \n",
              "4           5.0          3.6           1.4          0.2  setosa   \n",
              "\n",
              "               features  prediction  \n",
              "0  [5.1, 3.5, 1.4, 0.2]           1  \n",
              "1  [4.9, 3.0, 1.4, 0.2]           1  \n",
              "2  [4.7, 3.2, 1.3, 0.2]           1  \n",
              "3  [4.6, 3.1, 1.5, 0.2]           1  \n",
              "4  [5.0, 3.6, 1.4, 0.2]           1  "
            ],
            "text/html": [
              "\n",
              "  <div id=\"df-82188aa3-8278-4129-b134-51cc38102e25\">\n",
              "    <div class=\"colab-df-container\">\n",
              "      <div>\n",
              "<style scoped>\n",
              "    .dataframe tbody tr th:only-of-type {\n",
              "        vertical-align: middle;\n",
              "    }\n",
              "\n",
              "    .dataframe tbody tr th {\n",
              "        vertical-align: top;\n",
              "    }\n",
              "\n",
              "    .dataframe thead th {\n",
              "        text-align: right;\n",
              "    }\n",
              "</style>\n",
              "<table border=\"1\" class=\"dataframe\">\n",
              "  <thead>\n",
              "    <tr style=\"text-align: right;\">\n",
              "      <th></th>\n",
              "      <th>sepal_length</th>\n",
              "      <th>sepal_width</th>\n",
              "      <th>petal_length</th>\n",
              "      <th>petal_width</th>\n",
              "      <th>species</th>\n",
              "      <th>features</th>\n",
              "      <th>prediction</th>\n",
              "    </tr>\n",
              "  </thead>\n",
              "  <tbody>\n",
              "    <tr>\n",
              "      <th>0</th>\n",
              "      <td>5.1</td>\n",
              "      <td>3.5</td>\n",
              "      <td>1.4</td>\n",
              "      <td>0.2</td>\n",
              "      <td>setosa</td>\n",
              "      <td>[5.1, 3.5, 1.4, 0.2]</td>\n",
              "      <td>1</td>\n",
              "    </tr>\n",
              "    <tr>\n",
              "      <th>1</th>\n",
              "      <td>4.9</td>\n",
              "      <td>3.0</td>\n",
              "      <td>1.4</td>\n",
              "      <td>0.2</td>\n",
              "      <td>setosa</td>\n",
              "      <td>[4.9, 3.0, 1.4, 0.2]</td>\n",
              "      <td>1</td>\n",
              "    </tr>\n",
              "    <tr>\n",
              "      <th>2</th>\n",
              "      <td>4.7</td>\n",
              "      <td>3.2</td>\n",
              "      <td>1.3</td>\n",
              "      <td>0.2</td>\n",
              "      <td>setosa</td>\n",
              "      <td>[4.7, 3.2, 1.3, 0.2]</td>\n",
              "      <td>1</td>\n",
              "    </tr>\n",
              "    <tr>\n",
              "      <th>3</th>\n",
              "      <td>4.6</td>\n",
              "      <td>3.1</td>\n",
              "      <td>1.5</td>\n",
              "      <td>0.2</td>\n",
              "      <td>setosa</td>\n",
              "      <td>[4.6, 3.1, 1.5, 0.2]</td>\n",
              "      <td>1</td>\n",
              "    </tr>\n",
              "    <tr>\n",
              "      <th>4</th>\n",
              "      <td>5.0</td>\n",
              "      <td>3.6</td>\n",
              "      <td>1.4</td>\n",
              "      <td>0.2</td>\n",
              "      <td>setosa</td>\n",
              "      <td>[5.0, 3.6, 1.4, 0.2]</td>\n",
              "      <td>1</td>\n",
              "    </tr>\n",
              "  </tbody>\n",
              "</table>\n",
              "</div>\n",
              "      <button class=\"colab-df-convert\" onclick=\"convertToInteractive('df-82188aa3-8278-4129-b134-51cc38102e25')\"\n",
              "              title=\"Convert this dataframe to an interactive table.\"\n",
              "              style=\"display:none;\">\n",
              "        \n",
              "  <svg xmlns=\"http://www.w3.org/2000/svg\" height=\"24px\"viewBox=\"0 0 24 24\"\n",
              "       width=\"24px\">\n",
              "    <path d=\"M0 0h24v24H0V0z\" fill=\"none\"/>\n",
              "    <path d=\"M18.56 5.44l.94 2.06.94-2.06 2.06-.94-2.06-.94-.94-2.06-.94 2.06-2.06.94zm-11 1L8.5 8.5l.94-2.06 2.06-.94-2.06-.94L8.5 2.5l-.94 2.06-2.06.94zm10 10l.94 2.06.94-2.06 2.06-.94-2.06-.94-.94-2.06-.94 2.06-2.06.94z\"/><path d=\"M17.41 7.96l-1.37-1.37c-.4-.4-.92-.59-1.43-.59-.52 0-1.04.2-1.43.59L10.3 9.45l-7.72 7.72c-.78.78-.78 2.05 0 2.83L4 21.41c.39.39.9.59 1.41.59.51 0 1.02-.2 1.41-.59l7.78-7.78 2.81-2.81c.8-.78.8-2.07 0-2.86zM5.41 20L4 18.59l7.72-7.72 1.47 1.35L5.41 20z\"/>\n",
              "  </svg>\n",
              "      </button>\n",
              "      \n",
              "  <style>\n",
              "    .colab-df-container {\n",
              "      display:flex;\n",
              "      flex-wrap:wrap;\n",
              "      gap: 12px;\n",
              "    }\n",
              "\n",
              "    .colab-df-convert {\n",
              "      background-color: #E8F0FE;\n",
              "      border: none;\n",
              "      border-radius: 50%;\n",
              "      cursor: pointer;\n",
              "      display: none;\n",
              "      fill: #1967D2;\n",
              "      height: 32px;\n",
              "      padding: 0 0 0 0;\n",
              "      width: 32px;\n",
              "    }\n",
              "\n",
              "    .colab-df-convert:hover {\n",
              "      background-color: #E2EBFA;\n",
              "      box-shadow: 0px 1px 2px rgba(60, 64, 67, 0.3), 0px 1px 3px 1px rgba(60, 64, 67, 0.15);\n",
              "      fill: #174EA6;\n",
              "    }\n",
              "\n",
              "    [theme=dark] .colab-df-convert {\n",
              "      background-color: #3B4455;\n",
              "      fill: #D2E3FC;\n",
              "    }\n",
              "\n",
              "    [theme=dark] .colab-df-convert:hover {\n",
              "      background-color: #434B5C;\n",
              "      box-shadow: 0px 1px 3px 1px rgba(0, 0, 0, 0.15);\n",
              "      filter: drop-shadow(0px 1px 2px rgba(0, 0, 0, 0.3));\n",
              "      fill: #FFFFFF;\n",
              "    }\n",
              "  </style>\n",
              "\n",
              "      <script>\n",
              "        const buttonEl =\n",
              "          document.querySelector('#df-82188aa3-8278-4129-b134-51cc38102e25 button.colab-df-convert');\n",
              "        buttonEl.style.display =\n",
              "          google.colab.kernel.accessAllowed ? 'block' : 'none';\n",
              "\n",
              "        async function convertToInteractive(key) {\n",
              "          const element = document.querySelector('#df-82188aa3-8278-4129-b134-51cc38102e25');\n",
              "          const dataTable =\n",
              "            await google.colab.kernel.invokeFunction('convertToInteractive',\n",
              "                                                     [key], {});\n",
              "          if (!dataTable) return;\n",
              "\n",
              "          const docLinkHtml = 'Like what you see? Visit the ' +\n",
              "            '<a target=\"_blank\" href=https://colab.research.google.com/notebooks/data_table.ipynb>data table notebook</a>'\n",
              "            + ' to learn more about interactive tables.';\n",
              "          element.innerHTML = '';\n",
              "          dataTable['output_type'] = 'display_data';\n",
              "          await google.colab.output.renderOutput(dataTable, element);\n",
              "          const docLink = document.createElement('div');\n",
              "          docLink.innerHTML = docLinkHtml;\n",
              "          element.appendChild(docLink);\n",
              "        }\n",
              "      </script>\n",
              "    </div>\n",
              "  </div>\n",
              "  "
            ]
          },
          "metadata": {},
          "execution_count": 22
        }
      ]
    },
    {
      "cell_type": "markdown",
      "source": [
        "**Create Mapping to Encode (convert text to numeric)**"
      ],
      "metadata": {
        "id": "K43UtpNm4Cy_"
      }
    },
    {
      "cell_type": "code",
      "source": [
        "mapping = {'versicolor':2,'virginica':0,'setosa':1}\n",
        "hasil = [ mapping[x] for x in pandas_df.species]"
      ],
      "metadata": {
        "id": "z0EiyyXluBe4"
      },
      "execution_count": null,
      "outputs": []
    },
    {
      "cell_type": "markdown",
      "source": [
        "**Checking the Count of Predictions Failures**\n",
        "\n",
        "<small>*Predictions Failures = The Prediction Values are not the same as the Actual Values</small>"
      ],
      "metadata": {
        "id": "V2f-eFkU4lAt"
      }
    },
    {
      "cell_type": "code",
      "source": [
        "from sklearn.metrics import confusion_matrix\n",
        "import seaborn as sns\n",
        "sns.set()\n",
        "mat = confusion_matrix(hasil, pandas_df.prediction)\n",
        "sns.heatmap(mat.T, square=True, annot=True, fmt='d', cbar=False, xticklabels=[0,1,2], yticklabels=[0,1,2])\n",
        "plt.xlabel('Actual Values')\n",
        "plt.ylabel('Prediction Values');"
      ],
      "metadata": {
        "id": "fYPLIxu_uWQt",
        "colab": {
          "base_uri": "https://localhost:8080/",
          "height": 458
        },
        "outputId": "b4d06dd0-9450-4191-eef3-a7b21904e59c"
      },
      "execution_count": null,
      "outputs": [
        {
          "output_type": "display_data",
          "data": {
            "text/plain": [
              "<Figure size 640x480 with 1 Axes>"
            ],
            "image/png": "[encoded data removed]"
          },
          "metadata": {}
        }
      ]
    },
    {
      "cell_type": "markdown",
      "source": [
        "**Predictions Accuracy Score**"
      ],
      "metadata": {
        "id": "8tSgqSX45Vn-"
      }
    },
    {
      "cell_type": "code",
      "source": [
        "from sklearn.metrics import accuracy_score\n",
        "print(\"Accuracy Score :\", accuracy_score(hasil, pandas_df.prediction))"
      ],
      "metadata": {
        "id": "duVrHtH1vD_w",
        "colab": {
          "base_uri": "https://localhost:8080/"
        },
        "outputId": "6e76a0ca-cd65-42c7-a57a-241348dd9a05"
      },
      "execution_count": null,
      "outputs": [
        {
          "output_type": "stream",
          "name": "stdout",
          "text": [
            "Accuracy Score : 0.44666666666666666\n"
          ]
        }
      ]
    }
  ]
}